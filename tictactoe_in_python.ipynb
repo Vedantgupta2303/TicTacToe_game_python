{
 "cells": [
  {
   "cell_type": "code",
   "execution_count": 7,
   "metadata": {},
   "outputs": [],
   "source": [
    "board={1:'#',2:'#',3:'#',4:'#',5:'#',6:'#',7:'#',8:'#',9:'#'}\n",
    "active_player=0\n",
    "sign={1:'X',2:'O'}\n",
    "winning_position=[[1,2,3],[4,5,6],[7,8,9],[1,4,7],[2,5,8],[3,6,9],[1,5,9],[3,5,7]]\n",
    "won=False"
   ]
  },
  {
   "cell_type": "code",
   "execution_count": 8,
   "metadata": {},
   "outputs": [],
   "source": [
    "from IPython.display import clear_output\n",
    "\n",
    "def display_board(board):\n",
    "    pos={7:(1,1),8:(1,5),9:(1,9),4:(5,1),5:(5,5),6:(5,9),1:(9,1),2:(9,5),3:(9,9)}\n",
    "    l=[]\n",
    "    for i in range(1,10):\n",
    "        if board[i]!='#':\n",
    "            l.append(i)\n",
    "            \n",
    "    clear_output()\n",
    "    for i in range(0,11):\n",
    "        for j in range(0,11):\n",
    "            if len(l)!=0 :\n",
    "                v=0\n",
    "                k=0\n",
    "                while v < len(l): \n",
    "                    (a,b)=pos[l[v]]\n",
    "                    if i==a and j==b:\n",
    "                        print(board[l[v]],end='')\n",
    "                        l.remove(l[v])\n",
    "                        k=1\n",
    "                        break                        \n",
    "                    else:\n",
    "                        v+=1\n",
    "                if k==1:\n",
    "                    continue\n",
    "            if i==3 or i==7:\n",
    "                print(\"-\",end=\"\")\n",
    "            else:\n",
    "                if j==3 or j==7:\n",
    "                    print(\"|\",end=\"\")\n",
    "                else:\n",
    "                    print(\" \",end=\"\")\n",
    "        print(\"\")\n",
    "    if not won:\n",
    "        user_input(sign)    \n"
   ]
  },
  {
   "cell_type": "code",
   "execution_count": 9,
   "metadata": {},
   "outputs": [],
   "source": [
    "def user_input(sign):\n",
    "    global active_player\n",
    "    if active_player!=1 and active_player!=2:\n",
    "        active_player=int(input(\"please enter which player want to go first 1 or 2 = \"))\n",
    "        if active_player!=1 and active_player!=2:\n",
    "            print('WRONG INPUT please try again')\n",
    "            user_input(sign)\n",
    "            return None\n",
    "        \n",
    "    no=int(input(f'Enter the place number for the active player {active_player} = '))\n",
    "    if 0<no and no<10:\n",
    "        if board[no]=='#':\n",
    "            board[no]=sign[active_player]\n",
    "        else:\n",
    "            print(\"there is already a move exists.Please try some other position.\")\n",
    "            user_input(sign)\n",
    "            return None\n",
    "    else:\n",
    "        print('Wrong number please try again')\n",
    "        user_input(sign)\n",
    "        return None\n",
    "    if active_player == 1:\n",
    "        active_player=2\n",
    "    else:\n",
    "        active_player=1\n",
    "    check_win(winning_position)"
   ]
  },
  {
   "cell_type": "code",
   "execution_count": 10,
   "metadata": {},
   "outputs": [],
   "source": [
    "def check_win(winning_position):\n",
    "    counter=0\n",
    "    for i in winning_position:\n",
    "        if board[i[0]]==board[i[1]] and board[i[1]]==board[i[2]] and board[i[0]]!='#':\n",
    "            global won\n",
    "            won=True\n",
    "            display_board(board)\n",
    "            if active_player == 1:\n",
    "                print('player 2 won the game ')\n",
    "            else:\n",
    "                print('player 1 won the game ')\n",
    "            play_again()\n",
    "            return None\n",
    "    for i in range(1,10):\n",
    "        if board[i] == '#':\n",
    "            break\n",
    "        else:\n",
    "            counter+=1\n",
    "    if counter == 9:\n",
    "        won=True\n",
    "        display_board(board)\n",
    "        print(\"The game is draw between the two players\")\n",
    "        play_again()\n",
    "        return None\n",
    "    display_board(board)"
   ]
  },
  {
   "cell_type": "code",
   "execution_count": 11,
   "metadata": {},
   "outputs": [],
   "source": [
    "from IPython.display import clear_output\n",
    "def play_again():\n",
    "    play=input(\"Do you want to play again 'yes' or 'no' = \")\n",
    "    if play.lower()=='yes':\n",
    "        global board\n",
    "        board={1:'#',2:'#',3:'#',4:'#',5:'#',6:'#',7:'#',8:'#',9:'#'}\n",
    "        global active_player\n",
    "        active_player=0\n",
    "        global sign\n",
    "        sign={1:'X',2:'O'}\n",
    "        global winning_position\n",
    "        winning_position=[[1,2,3],[4,5,6],[7,8,9],[1,4,7],[2,5,8],[3,6,9],[1,5,9],[3,5,7]]\n",
    "        global won\n",
    "        won = False\n",
    "        display_board(board)\n",
    "        return None\n",
    "    elif play.lower()=='no':\n",
    "        clear_output()\n",
    "        print('Thank You')\n",
    "    else:\n",
    "        print('Wrong Input please try again.')\n",
    "        play_again()\n",
    "        return None"
   ]
  },
  {
   "cell_type": "code",
   "execution_count": 12,
   "metadata": {},
   "outputs": [
    {
     "name": "stdout",
     "output_type": "stream",
     "text": [
      "Thank You\n"
     ]
    }
   ],
   "source": [
    "display_board(board)"
   ]
  },
  {
   "cell_type": "code",
   "execution_count": null,
   "metadata": {},
   "outputs": [],
   "source": []
  }
 ],
 "metadata": {
  "kernelspec": {
   "display_name": "Python 3",
   "language": "python",
   "name": "python3"
  },
  "language_info": {
   "codemirror_mode": {
    "name": "ipython",
    "version": 3
   },
   "file_extension": ".py",
   "mimetype": "text/x-python",
   "name": "python",
   "nbconvert_exporter": "python",
   "pygments_lexer": "ipython3",
   "version": "3.7.3"
  }
 },
 "nbformat": 4,
 "nbformat_minor": 2
}
